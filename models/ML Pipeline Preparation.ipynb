{
 "cells": [
  {
   "cell_type": "markdown",
   "metadata": {},
   "source": [
    "# ML Pipeline Preparation\n",
    "Follow the instructions below to help you create your ML pipeline.\n",
    "### 1. Import libraries and load data from database.\n",
    "- Import Python libraries\n",
    "- Load dataset from database with [`read_sql_table`](https://pandas.pydata.org/pandas-docs/stable/generated/pandas.read_sql_table.html)\n",
    "- Define feature and target variables X and Y"
   ]
  },
  {
   "cell_type": "code",
   "execution_count": 118,
   "metadata": {},
   "outputs": [
    {
     "output_type": "stream",
     "name": "stderr",
     "text": [
      "[nltk_data] Downloading package punkt to\n[nltk_data]     C:\\Users\\Peter\\AppData\\Roaming\\nltk_data...\n[nltk_data]   Package punkt is already up-to-date!\n[nltk_data] Downloading package wordnet to\n[nltk_data]     C:\\Users\\Peter\\AppData\\Roaming\\nltk_data...\n[nltk_data]   Package wordnet is already up-to-date!\n[nltk_data] Downloading package stopwords to\n[nltk_data]     C:\\Users\\Peter\\AppData\\Roaming\\nltk_data...\n[nltk_data]   Package stopwords is already up-to-date!\n"
     ]
    }
   ],
   "source": [
    "# import libraries\n",
    "import os\n",
    "import re\n",
    "import numpy as np\n",
    "import pandas as pd\n",
    "import pickle\n",
    "from time import time\n",
    "\n",
    "# import nltk libraries\n",
    "import nltk\n",
    "nltk.download(['punkt', 'wordnet', 'stopwords'])\n",
    "from nltk.tokenize import word_tokenize\n",
    "from nltk.stem import WordNetLemmatizer\n",
    "from nltk.corpus import stopwords\n",
    "\n",
    "# import sklearn libraries\n",
    "from sklearn.model_selection import train_test_split\n",
    "from sklearn.feature_extraction.text import CountVectorizer, TfidfTransformer, TfidfVectorizer\n",
    "from sklearn.pipeline import Pipeline\n",
    "from sklearn.metrics import classification_report, f1_score\n",
    "from sklearn.ensemble import RandomForestClassifier\n",
    "\n",
    "from sklearn.model_selection import GridSearchCV, RandomizedSearchCV \n",
    "from sklearn.svm import LinearSVC\n",
    "from sklearn.multioutput import MultiOutputClassifier\n",
    "\n",
    "\n",
    "from sqlalchemy import create_engine"
   ]
  },
  {
   "cell_type": "code",
   "execution_count": 119,
   "metadata": {},
   "outputs": [],
   "source": [
    "# load data from database\n",
    "engine = create_engine('sqlite:///DisasterResponse.db')\n",
    "df = pd.read_sql_table('disaster_table', con=engine)\n",
    "\n",
    "X = df['message'] # reads message column\n",
    "y = df.iloc[:,4:] # reads all rows, all column starting at [4] ->"
   ]
  },
  {
   "cell_type": "code",
   "execution_count": 120,
   "metadata": {},
   "outputs": [
    {
     "output_type": "execute_result",
     "data": {
      "text/plain": [
       "0    Weather update - a cold front from Cuba that c...\n",
       "1              Is the Hurricane over or is it not over\n",
       "2                      Looking for someone but no name\n",
       "3    UN reports Leogane 80-90 destroyed. Only Hospi...\n",
       "4    says: west side of Haiti, rest of the country ...\n",
       "Name: message, dtype: object"
      ]
     },
     "metadata": {},
     "execution_count": 120
    }
   ],
   "source": [
    "# Display message column\n",
    "X.head()"
   ]
  },
  {
   "cell_type": "code",
   "execution_count": 121,
   "metadata": {},
   "outputs": [
    {
     "output_type": "execute_result",
     "data": {
      "text/plain": [
       "   related  request  offer  aid related  medical help  medical products  \\\n",
       "0        1        0      0            0             0                 0   \n",
       "1        1        0      0            1             0                 0   \n",
       "2        1        0      0            0             0                 0   \n",
       "3        1        1      0            1             0                 1   \n",
       "4        1        0      0            0             0                 0   \n",
       "\n",
       "   search and rescue  security  military  child alone  ...  aid centers  \\\n",
       "0                  0         0         0            0  ...            0   \n",
       "1                  0         0         0            0  ...            0   \n",
       "2                  0         0         0            0  ...            0   \n",
       "3                  0         0         0            0  ...            0   \n",
       "4                  0         0         0            0  ...            0   \n",
       "\n",
       "   other infrastructure  weather related  floods  storm  fire  earthquake  \\\n",
       "0                     0                0       0      0     0           0   \n",
       "1                     0                1       0      1     0           0   \n",
       "2                     0                0       0      0     0           0   \n",
       "3                     0                0       0      0     0           0   \n",
       "4                     0                0       0      0     0           0   \n",
       "\n",
       "   cold  other weather  direct report  \n",
       "0     0              0              0  \n",
       "1     0              0              0  \n",
       "2     0              0              0  \n",
       "3     0              0              0  \n",
       "4     0              0              0  \n",
       "\n",
       "[5 rows x 36 columns]"
      ],
      "text/html": "<div>\n<style scoped>\n    .dataframe tbody tr th:only-of-type {\n        vertical-align: middle;\n    }\n\n    .dataframe tbody tr th {\n        vertical-align: top;\n    }\n\n    .dataframe thead th {\n        text-align: right;\n    }\n</style>\n<table border=\"1\" class=\"dataframe\">\n  <thead>\n    <tr style=\"text-align: right;\">\n      <th></th>\n      <th>related</th>\n      <th>request</th>\n      <th>offer</th>\n      <th>aid related</th>\n      <th>medical help</th>\n      <th>medical products</th>\n      <th>search and rescue</th>\n      <th>security</th>\n      <th>military</th>\n      <th>child alone</th>\n      <th>...</th>\n      <th>aid centers</th>\n      <th>other infrastructure</th>\n      <th>weather related</th>\n      <th>floods</th>\n      <th>storm</th>\n      <th>fire</th>\n      <th>earthquake</th>\n      <th>cold</th>\n      <th>other weather</th>\n      <th>direct report</th>\n    </tr>\n  </thead>\n  <tbody>\n    <tr>\n      <th>0</th>\n      <td>1</td>\n      <td>0</td>\n      <td>0</td>\n      <td>0</td>\n      <td>0</td>\n      <td>0</td>\n      <td>0</td>\n      <td>0</td>\n      <td>0</td>\n      <td>0</td>\n      <td>...</td>\n      <td>0</td>\n      <td>0</td>\n      <td>0</td>\n      <td>0</td>\n      <td>0</td>\n      <td>0</td>\n      <td>0</td>\n      <td>0</td>\n      <td>0</td>\n      <td>0</td>\n    </tr>\n    <tr>\n      <th>1</th>\n      <td>1</td>\n      <td>0</td>\n      <td>0</td>\n      <td>1</td>\n      <td>0</td>\n      <td>0</td>\n      <td>0</td>\n      <td>0</td>\n      <td>0</td>\n      <td>0</td>\n      <td>...</td>\n      <td>0</td>\n      <td>0</td>\n      <td>1</td>\n      <td>0</td>\n      <td>1</td>\n      <td>0</td>\n      <td>0</td>\n      <td>0</td>\n      <td>0</td>\n      <td>0</td>\n    </tr>\n    <tr>\n      <th>2</th>\n      <td>1</td>\n      <td>0</td>\n      <td>0</td>\n      <td>0</td>\n      <td>0</td>\n      <td>0</td>\n      <td>0</td>\n      <td>0</td>\n      <td>0</td>\n      <td>0</td>\n      <td>...</td>\n      <td>0</td>\n      <td>0</td>\n      <td>0</td>\n      <td>0</td>\n      <td>0</td>\n      <td>0</td>\n      <td>0</td>\n      <td>0</td>\n      <td>0</td>\n      <td>0</td>\n    </tr>\n    <tr>\n      <th>3</th>\n      <td>1</td>\n      <td>1</td>\n      <td>0</td>\n      <td>1</td>\n      <td>0</td>\n      <td>1</td>\n      <td>0</td>\n      <td>0</td>\n      <td>0</td>\n      <td>0</td>\n      <td>...</td>\n      <td>0</td>\n      <td>0</td>\n      <td>0</td>\n      <td>0</td>\n      <td>0</td>\n      <td>0</td>\n      <td>0</td>\n      <td>0</td>\n      <td>0</td>\n      <td>0</td>\n    </tr>\n    <tr>\n      <th>4</th>\n      <td>1</td>\n      <td>0</td>\n      <td>0</td>\n      <td>0</td>\n      <td>0</td>\n      <td>0</td>\n      <td>0</td>\n      <td>0</td>\n      <td>0</td>\n      <td>0</td>\n      <td>...</td>\n      <td>0</td>\n      <td>0</td>\n      <td>0</td>\n      <td>0</td>\n      <td>0</td>\n      <td>0</td>\n      <td>0</td>\n      <td>0</td>\n      <td>0</td>\n      <td>0</td>\n    </tr>\n  </tbody>\n</table>\n<p>5 rows × 36 columns</p>\n</div>"
     },
     "metadata": {},
     "execution_count": 121
    }
   ],
   "source": [
    "# Display categories dataframe made from ETL pipeline\n",
    "y.head()"
   ]
  },
  {
   "cell_type": "code",
   "execution_count": 122,
   "metadata": {},
   "outputs": [
    {
     "output_type": "execute_result",
     "data": {
      "text/plain": [
       "0         66\n",
       "1         39\n",
       "2         31\n",
       "3        100\n",
       "4         63\n",
       "        ... \n",
       "26210    148\n",
       "26211    136\n",
       "26212    141\n",
       "26213    191\n",
       "26214    209\n",
       "Name: message, Length: 26215, dtype: int64"
      ]
     },
     "metadata": {},
     "execution_count": 122
    }
   ],
   "source": [
    "# Displays length of characters in each message\n",
    "df['message'] = df['message'].apply(lambda x: len(x))\n",
    "df['message']"
   ]
  },
  {
   "cell_type": "code",
   "execution_count": 123,
   "metadata": {},
   "outputs": [
    {
     "output_type": "execute_result",
     "data": {
      "text/plain": [
       "Index(['related', 'request', 'offer', 'aid related', 'medical help',\n",
       "       'medical products', 'search and rescue', 'security', 'military',\n",
       "       'child alone', 'water', 'food', 'shelter', 'clothing', 'money',\n",
       "       'missing people', 'refugees', 'death', 'other aid',\n",
       "       'infrastructure related', 'transport', 'buildings', 'electricity',\n",
       "       'tools', 'hospitals', 'shops', 'aid centers', 'other infrastructure',\n",
       "       'weather related', 'floods', 'storm', 'fire', 'earthquake', 'cold',\n",
       "       'other weather', 'direct report'],\n",
       "      dtype='object')"
      ]
     },
     "metadata": {},
     "execution_count": 123
    }
   ],
   "source": [
    "# Index of column names\n",
    "y.columns"
   ]
  },
  {
   "cell_type": "markdown",
   "metadata": {},
   "source": [
    "### 2. Write a tokenization function to process your text data"
   ]
  },
  {
   "cell_type": "code",
   "execution_count": 124,
   "metadata": {},
   "outputs": [],
   "source": [
    "url_regex = 'http[s]?://(?:[a-zA-Z]|[0-9]|[$-_@.&+]|[!*\\(\\),]|(?:%[0-9a-fA-F][0-9a-fA-F]))+'\n",
    "\n",
    "# function to detect url, normalize, tokenize, remove stopwords, lemmatize words \n",
    "def tokenize(text, lemmatizer=WordNetLemmatizer()):\n",
    "    # Detect urls with url_regex\n",
    "    detected_urls = re.findall(url_regex, text)\n",
    "    for url in detected_urls:\n",
    "        text = text.replace(url, \"urlplaceholder\")\n",
    "\n",
    "    # Normalizes and tokenizes (removes punctuations and converts to lowercase)\n",
    "    tokens = nltk.word_tokenize(re.sub(r\"[^a-zA-Z0-9]\", \" \", text.lower()))\n",
    "\n",
    "        # Remove stopwords\n",
    "    tokens = [t for t in tokens if t not in stopwords.words('english')]\n",
    "\n",
    "    # lemmatize and remove stop words\n",
    "    clean_tokens = []\n",
    "    for tok in tokens:\n",
    "        clean_tok = lemmatizer.lemmatize(tok).lower().strip()\n",
    "        if clean_tok not in stopwords.words(\"english\"):\n",
    "            clean_tokens.append(clean_tok)\n",
    "    pass\n",
    "    return clean_tokens"
   ]
  },
  {
   "cell_type": "markdown",
   "metadata": {},
   "source": [
    "### 3. Build a machine learning pipeline\n",
    "This machine pipeline should take in the `message` column as input and output classification results on the other 36 categories in the dataset. You may find the [MultiOutputClassifier](http://scikit-learn.org/stable/modules/generated/sklearn.multioutput.MultiOutputClassifier.html) helpful for predicting multiple target variables."
   ]
  },
  {
   "cell_type": "code",
   "execution_count": 125,
   "metadata": {},
   "outputs": [],
   "source": [
    "# Pipeline with RandomForestClf\n",
    "pipeline = Pipeline([\n",
    "    ('vect', TfidfVectorizer(tokenizer=tokenize)),\n",
    "    ('tfidf', TfidfTransformer()),\n",
    "    ('clf',MultiOutputClassifier(RandomForestClassifier(n_jobs=-1))),\n",
    "])"
   ]
  },
  {
   "cell_type": "markdown",
   "metadata": {},
   "source": [
    "### 4. Train pipeline\n",
    "- Split data into train and test sets\n",
    "- Train pipeline"
   ]
  },
  {
   "cell_type": "code",
   "execution_count": 126,
   "metadata": {},
   "outputs": [],
   "source": [
    "# Splits dataset into train and test sets\n",
    "X_train, X_test, y_train, y_test = train_test_split(X, y, test_size=0.2, random_state = 42)"
   ]
  },
  {
   "cell_type": "code",
   "execution_count": 127,
   "metadata": {},
   "outputs": [
    {
     "output_type": "execute_result",
     "data": {
      "text/plain": [
       "Pipeline(steps=[('vect',\n",
       "                 TfidfVectorizer(tokenizer=<function tokenize at 0x0000020082A9FDC0>)),\n",
       "                ('tfidf', TfidfTransformer()),\n",
       "                ('clf',\n",
       "                 MultiOutputClassifier(estimator=RandomForestClassifier(n_jobs=-1)))])"
      ]
     },
     "metadata": {},
     "execution_count": 127
    }
   ],
   "source": [
    "# Fits pipeline on train set \n",
    "pipeline.fit(X_train, y_train)"
   ]
  },
  {
   "cell_type": "code",
   "execution_count": 128,
   "metadata": {},
   "outputs": [
    {
     "output_type": "execute_result",
     "data": {
      "text/plain": [
       "{'memory': None,\n",
       " 'steps': [('vect',\n",
       "   TfidfVectorizer(tokenizer=<function tokenize at 0x0000020082A9FDC0>)),\n",
       "  ('tfidf', TfidfTransformer()),\n",
       "  ('clf', MultiOutputClassifier(estimator=RandomForestClassifier(n_jobs=-1)))],\n",
       " 'verbose': False,\n",
       " 'vect': TfidfVectorizer(tokenizer=<function tokenize at 0x0000020082A9FDC0>),\n",
       " 'tfidf': TfidfTransformer(),\n",
       " 'clf': MultiOutputClassifier(estimator=RandomForestClassifier(n_jobs=-1)),\n",
       " 'vect__analyzer': 'word',\n",
       " 'vect__binary': False,\n",
       " 'vect__decode_error': 'strict',\n",
       " 'vect__dtype': numpy.float64,\n",
       " 'vect__encoding': 'utf-8',\n",
       " 'vect__input': 'content',\n",
       " 'vect__lowercase': True,\n",
       " 'vect__max_df': 1.0,\n",
       " 'vect__max_features': None,\n",
       " 'vect__min_df': 1,\n",
       " 'vect__ngram_range': (1, 1),\n",
       " 'vect__norm': 'l2',\n",
       " 'vect__preprocessor': None,\n",
       " 'vect__smooth_idf': True,\n",
       " 'vect__stop_words': None,\n",
       " 'vect__strip_accents': None,\n",
       " 'vect__sublinear_tf': False,\n",
       " 'vect__token_pattern': '(?u)\\\\b\\\\w\\\\w+\\\\b',\n",
       " 'vect__tokenizer': <function __main__.tokenize(text, lemmatizer=<WordNetLemmatizer>)>,\n",
       " 'vect__use_idf': True,\n",
       " 'vect__vocabulary': None,\n",
       " 'tfidf__norm': 'l2',\n",
       " 'tfidf__smooth_idf': True,\n",
       " 'tfidf__sublinear_tf': False,\n",
       " 'tfidf__use_idf': True,\n",
       " 'clf__estimator__bootstrap': True,\n",
       " 'clf__estimator__ccp_alpha': 0.0,\n",
       " 'clf__estimator__class_weight': None,\n",
       " 'clf__estimator__criterion': 'gini',\n",
       " 'clf__estimator__max_depth': None,\n",
       " 'clf__estimator__max_features': 'auto',\n",
       " 'clf__estimator__max_leaf_nodes': None,\n",
       " 'clf__estimator__max_samples': None,\n",
       " 'clf__estimator__min_impurity_decrease': 0.0,\n",
       " 'clf__estimator__min_impurity_split': None,\n",
       " 'clf__estimator__min_samples_leaf': 1,\n",
       " 'clf__estimator__min_samples_split': 2,\n",
       " 'clf__estimator__min_weight_fraction_leaf': 0.0,\n",
       " 'clf__estimator__n_estimators': 100,\n",
       " 'clf__estimator__n_jobs': -1,\n",
       " 'clf__estimator__oob_score': False,\n",
       " 'clf__estimator__random_state': None,\n",
       " 'clf__estimator__verbose': 0,\n",
       " 'clf__estimator__warm_start': False,\n",
       " 'clf__estimator': RandomForestClassifier(n_jobs=-1),\n",
       " 'clf__n_jobs': None}"
      ]
     },
     "metadata": {},
     "execution_count": 128
    }
   ],
   "source": [
    "pipeline.get_params()"
   ]
  },
  {
   "cell_type": "markdown",
   "metadata": {},
   "source": [
    "### 5. Test your model\n",
    "Report the f1 score, precision and recall for each output category of the dataset. You can do this by iterating through the columns and calling sklearn's `classification_report` on each."
   ]
  },
  {
   "cell_type": "code",
   "execution_count": 129,
   "metadata": {},
   "outputs": [],
   "source": [
    "# Predict pipeline X_test (long process)\n",
    "y_pred = pipeline.predict(X_test)"
   ]
  },
  {
   "cell_type": "code",
   "execution_count": 130,
   "metadata": {},
   "outputs": [
    {
     "output_type": "stream",
     "name": "stdout",
     "text": [
      "                        precision    recall  f1-score   support\n\n               related       0.84      0.94      0.89      3998\n               request       0.83      0.51      0.63       891\n                 offer       0.00      0.00      0.00        24\n           aid related       0.76      0.69      0.72      2164\n          medical help       0.67      0.07      0.12       435\n      medical products       0.79      0.08      0.14       279\n     search and rescue       0.62      0.07      0.13       136\n              security       0.33      0.01      0.02        96\n              military       0.57      0.08      0.14       158\n           child alone       0.00      0.00      0.00         0\n                 water       0.89      0.43      0.58       335\n                  food       0.87      0.54      0.66       584\n               shelter       0.80      0.36      0.50       468\n              clothing       0.89      0.11      0.20        70\n                 money       0.90      0.08      0.15       112\n        missing people       0.50      0.02      0.03        63\n              refugees       0.69      0.05      0.10       170\n                 death       0.87      0.11      0.19       247\n             other aid       0.54      0.04      0.08       692\ninfrastructure related       0.50      0.01      0.01       336\n             transport       0.76      0.08      0.15       235\n             buildings       0.79      0.11      0.20       269\n           electricity       1.00      0.07      0.13       115\n                 tools       0.00      0.00      0.00        35\n             hospitals       0.00      0.00      0.00        52\n                 shops       0.00      0.00      0.00        25\n           aid centers       0.00      0.00      0.00        64\n  other infrastructure       0.00      0.00      0.00       225\n       weather related       0.85      0.71      0.77      1472\n                floods       0.91      0.45      0.60       431\n                 storm       0.81      0.54      0.65       479\n                  fire       0.50      0.02      0.04        53\n            earthquake       0.89      0.79      0.84       515\n                  cold       0.87      0.12      0.22       104\n         other weather       0.67      0.05      0.10       267\n         direct report       0.76      0.36      0.49      1010\n\n             micro avg       0.82      0.53      0.65     16609\n             macro avg       0.60      0.21      0.26     16609\n          weighted avg       0.77      0.53      0.58     16609\n           samples avg       0.66      0.48      0.51     16609\n\n"
     ]
    }
   ],
   "source": [
    "print(classification_report(y_test, y_pred, target_names=y.columns))"
   ]
  },
  {
   "cell_type": "markdown",
   "metadata": {},
   "source": [
    "### 6. Improve your model\n",
    "Use grid search to find better parameters. "
   ]
  },
  {
   "cell_type": "code",
   "execution_count": 131,
   "metadata": {},
   "outputs": [],
   "source": [
    "# Pipeline 2 with RFC\n",
    "pipeline2 = Pipeline([\n",
    "    ('vect', TfidfVectorizer(tokenizer=tokenize)),\n",
    "    ('tfidf', TfidfTransformer()),\n",
    "    ('clf',MultiOutputClassifier(RandomForestClassifier())),\n",
    "])"
   ]
  },
  {
   "source": [
    "from sklearn.model_selection import GridSearchCV\n",
    "\n",
    "# Parameters used for GridsearchCV\n",
    "parameters2 = {'tfidf__use_idf': (True, False), \n",
    "              'clf__estimator__n_estimators': [10],}\n",
    "\n",
    "cv2 = GridSearchCV(estimator=pipeline2, param_grid=parameters2, verbose=3)"
   ],
   "cell_type": "code",
   "metadata": {},
   "execution_count": 132,
   "outputs": []
  },
  {
   "cell_type": "code",
   "execution_count": 133,
   "metadata": {},
   "outputs": [
    {
     "output_type": "execute_result",
     "data": {
      "text/plain": [
       "dict_keys(['cv', 'error_score', 'estimator__memory', 'estimator__steps', 'estimator__verbose', 'estimator__vect', 'estimator__tfidf', 'estimator__clf', 'estimator__vect__analyzer', 'estimator__vect__binary', 'estimator__vect__decode_error', 'estimator__vect__dtype', 'estimator__vect__encoding', 'estimator__vect__input', 'estimator__vect__lowercase', 'estimator__vect__max_df', 'estimator__vect__max_features', 'estimator__vect__min_df', 'estimator__vect__ngram_range', 'estimator__vect__norm', 'estimator__vect__preprocessor', 'estimator__vect__smooth_idf', 'estimator__vect__stop_words', 'estimator__vect__strip_accents', 'estimator__vect__sublinear_tf', 'estimator__vect__token_pattern', 'estimator__vect__tokenizer', 'estimator__vect__use_idf', 'estimator__vect__vocabulary', 'estimator__tfidf__norm', 'estimator__tfidf__smooth_idf', 'estimator__tfidf__sublinear_tf', 'estimator__tfidf__use_idf', 'estimator__clf__estimator__bootstrap', 'estimator__clf__estimator__ccp_alpha', 'estimator__clf__estimator__class_weight', 'estimator__clf__estimator__criterion', 'estimator__clf__estimator__max_depth', 'estimator__clf__estimator__max_features', 'estimator__clf__estimator__max_leaf_nodes', 'estimator__clf__estimator__max_samples', 'estimator__clf__estimator__min_impurity_decrease', 'estimator__clf__estimator__min_impurity_split', 'estimator__clf__estimator__min_samples_leaf', 'estimator__clf__estimator__min_samples_split', 'estimator__clf__estimator__min_weight_fraction_leaf', 'estimator__clf__estimator__n_estimators', 'estimator__clf__estimator__n_jobs', 'estimator__clf__estimator__oob_score', 'estimator__clf__estimator__random_state', 'estimator__clf__estimator__verbose', 'estimator__clf__estimator__warm_start', 'estimator__clf__estimator', 'estimator__clf__n_jobs', 'estimator', 'iid', 'n_jobs', 'param_grid', 'pre_dispatch', 'refit', 'return_train_score', 'scoring', 'verbose'])"
      ]
     },
     "metadata": {},
     "execution_count": 133
    }
   ],
   "source": [
    "cv2.get_params().keys()"
   ]
  },
  {
   "cell_type": "code",
   "execution_count": 134,
   "metadata": {},
   "outputs": [
    {
     "output_type": "execute_result",
     "data": {
      "text/plain": [
       "GridSearchCV(estimator=Pipeline(steps=[('vect',\n",
       "                                        TfidfVectorizer(tokenizer=<function tokenize at 0x0000020082A9FDC0>)),\n",
       "                                       ('tfidf', TfidfTransformer()),\n",
       "                                       ('clf',\n",
       "                                        MultiOutputClassifier(estimator=RandomForestClassifier()))]),\n",
       "             param_grid={'clf__estimator__n_estimators': [10],\n",
       "                         'tfidf__use_idf': (True, False)},\n",
       "             verbose=3)"
      ]
     },
     "metadata": {},
     "execution_count": 134
    }
   ],
   "source": [
    "cv2"
   ]
  },
  {
   "cell_type": "markdown",
   "metadata": {},
   "source": [
    "### 7. Test your model\n",
    "Show the accuracy, precision, and recall of the tuned model.  \n",
    "\n",
    "Since this project focuses on code quality, process, and  pipelines, there is no minimum performance metric needed to pass. However, make sure to fine tune your models for accuracy, precision and recall to make your project stand out - especially for your portfolio!"
   ]
  },
  {
   "cell_type": "code",
   "execution_count": 135,
   "metadata": {},
   "outputs": [
    {
     "output_type": "stream",
     "name": "stdout",
     "text": [
      "Fitting 5 folds for each of 2 candidates, totalling 10 fits\n",
      "[CV] clf__estimator__n_estimators=10, tfidf__use_idf=True ............\n",
      "[Parallel(n_jobs=1)]: Using backend SequentialBackend with 1 concurrent workers.\n",
      "[CV]  clf__estimator__n_estimators=10, tfidf__use_idf=True, score=0.247, total= 8.2min\n",
      "[CV] clf__estimator__n_estimators=10, tfidf__use_idf=True ............\n",
      "[Parallel(n_jobs=1)]: Done   1 out of   1 | elapsed:  8.2min remaining:    0.0s\n",
      "[CV]  clf__estimator__n_estimators=10, tfidf__use_idf=True, score=0.251, total= 8.6min\n",
      "[CV] clf__estimator__n_estimators=10, tfidf__use_idf=True ............\n",
      "[Parallel(n_jobs=1)]: Done   2 out of   2 | elapsed: 16.8min remaining:    0.0s\n",
      "[CV]  clf__estimator__n_estimators=10, tfidf__use_idf=True, score=0.245, total= 7.5min\n",
      "[CV] clf__estimator__n_estimators=10, tfidf__use_idf=True ............\n",
      "[CV]  clf__estimator__n_estimators=10, tfidf__use_idf=True, score=0.247, total= 7.5min\n",
      "[CV] clf__estimator__n_estimators=10, tfidf__use_idf=True ............\n",
      "[CV]  clf__estimator__n_estimators=10, tfidf__use_idf=True, score=0.247, total= 8.2min\n",
      "[CV] clf__estimator__n_estimators=10, tfidf__use_idf=False ...........\n",
      "[CV]  clf__estimator__n_estimators=10, tfidf__use_idf=False, score=0.243, total=10.9min\n",
      "[CV] clf__estimator__n_estimators=10, tfidf__use_idf=False ...........\n",
      "[CV]  clf__estimator__n_estimators=10, tfidf__use_idf=False, score=0.243, total=11.6min\n",
      "[CV] clf__estimator__n_estimators=10, tfidf__use_idf=False ...........\n",
      "[CV]  clf__estimator__n_estimators=10, tfidf__use_idf=False, score=0.252, total=12.4min\n",
      "[CV] clf__estimator__n_estimators=10, tfidf__use_idf=False ...........\n",
      "[CV]  clf__estimator__n_estimators=10, tfidf__use_idf=False, score=0.244, total=13.9min\n",
      "[CV] clf__estimator__n_estimators=10, tfidf__use_idf=False ...........\n",
      "[CV]  clf__estimator__n_estimators=10, tfidf__use_idf=False, score=0.259, total=10.7min\n",
      "[Parallel(n_jobs=1)]: Done  10 out of  10 | elapsed: 99.5min finished\n"
     ]
    },
    {
     "output_type": "execute_result",
     "data": {
      "text/plain": [
       "GridSearchCV(estimator=Pipeline(steps=[('vect',\n",
       "                                        TfidfVectorizer(tokenizer=<function tokenize at 0x0000020082A9FDC0>)),\n",
       "                                       ('tfidf', TfidfTransformer()),\n",
       "                                       ('clf',\n",
       "                                        MultiOutputClassifier(estimator=RandomForestClassifier()))]),\n",
       "             param_grid={'clf__estimator__n_estimators': [10],\n",
       "                         'tfidf__use_idf': (True, False)},\n",
       "             verbose=3)"
      ]
     },
     "metadata": {},
     "execution_count": 135
    }
   ],
   "source": [
    "cv2.fit(X_train, y_train)"
   ]
  },
  {
   "cell_type": "code",
   "execution_count": 136,
   "metadata": {},
   "outputs": [],
   "source": [
    "y_pred2 = cv2.predict(X_test)"
   ]
  },
  {
   "cell_type": "code",
   "execution_count": 137,
   "metadata": {},
   "outputs": [
    {
     "output_type": "stream",
     "name": "stdout",
     "text": [
      "                        precision    recall  f1-score   support\n\n               related       0.85      0.91      0.88      3998\n               request       0.79      0.42      0.55       891\n                 offer       0.00      0.00      0.00        24\n           aid related       0.74      0.60      0.66      2164\n          medical help       0.57      0.09      0.15       435\n      medical products       0.77      0.06      0.11       279\n     search and rescue       0.69      0.08      0.14       136\n              security       0.00      0.00      0.00        96\n              military       0.62      0.08      0.15       158\n           child alone       0.00      0.00      0.00         0\n                 water       0.81      0.32      0.46       335\n                  food       0.84      0.43      0.56       584\n               shelter       0.79      0.35      0.49       468\n              clothing       0.67      0.09      0.15        70\n                 money       0.55      0.05      0.10       112\n        missing people       1.00      0.02      0.03        63\n              refugees       0.67      0.07      0.13       170\n                 death       0.88      0.18      0.30       247\n             other aid       0.43      0.04      0.08       692\ninfrastructure related       0.00      0.00      0.00       336\n             transport       0.46      0.05      0.08       235\n             buildings       0.76      0.11      0.19       269\n           electricity       0.71      0.04      0.08       115\n                 tools       0.00      0.00      0.00        35\n             hospitals       0.00      0.00      0.00        52\n                 shops       0.00      0.00      0.00        25\n           aid centers       0.00      0.00      0.00        64\n  other infrastructure       0.00      0.00      0.00       225\n       weather related       0.85      0.63      0.72      1472\n                floods       0.89      0.37      0.52       431\n                 storm       0.79      0.42      0.55       479\n                  fire       1.00      0.02      0.04        53\n            earthquake       0.89      0.73      0.80       515\n                  cold       0.75      0.14      0.24       104\n         other weather       0.44      0.03      0.05       267\n         direct report       0.70      0.30      0.42      1010\n\n             micro avg       0.81      0.48      0.61     16609\n             macro avg       0.55      0.18      0.24     16609\n          weighted avg       0.73      0.48      0.54     16609\n           samples avg       0.64      0.44      0.47     16609\n\n"
     ]
    }
   ],
   "source": [
    "print(classification_report(y_test, y_pred2, target_names=y.columns))"
   ]
  },
  {
   "cell_type": "markdown",
   "metadata": {},
   "source": [
    "### 8. Try improving your model further. Here are a few ideas:\n",
    "* try other machine learning algorithms\n",
    "* add other features besides the TF-IDF"
   ]
  },
  {
   "cell_type": "code",
   "execution_count": 153,
   "metadata": {},
   "outputs": [],
   "source": [
    "from sklearn.ensemble import RandomForestClassifier,AdaBoostClassifier\n",
    "\n",
    "# Pipeline 3 with AdaboostClf\n",
    "pipeline3 = Pipeline([\n",
    "    ('vect', CountVectorizer(tokenizer=tokenize)),\n",
    "    ('tfidf', TfidfTransformer(smooth_idf=False)),\n",
    "    ('clf', MultiOutputClassifier(AdaBoostClassifier()))\n",
    "])"
   ]
  },
  {
   "cell_type": "code",
   "execution_count": 154,
   "metadata": {},
   "outputs": [
    {
     "output_type": "execute_result",
     "data": {
      "text/plain": [
       "{'memory': None,\n",
       " 'steps': [('vect',\n",
       "   CountVectorizer(tokenizer=<function tokenize at 0x0000020082A9FDC0>)),\n",
       "  ('tfidf', TfidfTransformer(smooth_idf=False)),\n",
       "  ('clf', MultiOutputClassifier(estimator=AdaBoostClassifier()))],\n",
       " 'verbose': False,\n",
       " 'vect': CountVectorizer(tokenizer=<function tokenize at 0x0000020082A9FDC0>),\n",
       " 'tfidf': TfidfTransformer(smooth_idf=False),\n",
       " 'clf': MultiOutputClassifier(estimator=AdaBoostClassifier()),\n",
       " 'vect__analyzer': 'word',\n",
       " 'vect__binary': False,\n",
       " 'vect__decode_error': 'strict',\n",
       " 'vect__dtype': numpy.int64,\n",
       " 'vect__encoding': 'utf-8',\n",
       " 'vect__input': 'content',\n",
       " 'vect__lowercase': True,\n",
       " 'vect__max_df': 1.0,\n",
       " 'vect__max_features': None,\n",
       " 'vect__min_df': 1,\n",
       " 'vect__ngram_range': (1, 1),\n",
       " 'vect__preprocessor': None,\n",
       " 'vect__stop_words': None,\n",
       " 'vect__strip_accents': None,\n",
       " 'vect__token_pattern': '(?u)\\\\b\\\\w\\\\w+\\\\b',\n",
       " 'vect__tokenizer': <function __main__.tokenize(text, lemmatizer=<WordNetLemmatizer>)>,\n",
       " 'vect__vocabulary': None,\n",
       " 'tfidf__norm': 'l2',\n",
       " 'tfidf__smooth_idf': False,\n",
       " 'tfidf__sublinear_tf': False,\n",
       " 'tfidf__use_idf': True,\n",
       " 'clf__estimator__algorithm': 'SAMME.R',\n",
       " 'clf__estimator__base_estimator': None,\n",
       " 'clf__estimator__learning_rate': 1.0,\n",
       " 'clf__estimator__n_estimators': 50,\n",
       " 'clf__estimator__random_state': None,\n",
       " 'clf__estimator': AdaBoostClassifier(),\n",
       " 'clf__n_jobs': None}"
      ]
     },
     "metadata": {},
     "execution_count": 154
    }
   ],
   "source": [
    "pipeline3.get_params()"
   ]
  },
  {
   "cell_type": "code",
   "execution_count": 155,
   "metadata": {},
   "outputs": [],
   "source": [
    "# tuning parameters {'clf__estimator__n_estimators': [10, 30]\n",
    "parameters3 = {'clf__estimator__n_estimators': [50, 100], \n",
    "              'clf__estimator__learning_rate': [1, 2]}\n",
    "\n",
    "\n",
    "cv3 = GridSearchCV(estimator=pipeline3, param_grid=parameters3, verbose=3)"
   ]
  },
  {
   "cell_type": "code",
   "execution_count": 156,
   "metadata": {},
   "outputs": [
    {
     "output_type": "execute_result",
     "data": {
      "text/plain": [
       "GridSearchCV(estimator=Pipeline(steps=[('vect',\n",
       "                                        CountVectorizer(tokenizer=<function tokenize at 0x0000020082A9FDC0>)),\n",
       "                                       ('tfidf',\n",
       "                                        TfidfTransformer(smooth_idf=False)),\n",
       "                                       ('clf',\n",
       "                                        MultiOutputClassifier(estimator=AdaBoostClassifier()))]),\n",
       "             param_grid={'clf__estimator__learning_rate': [1, 2],\n",
       "                         'clf__estimator__n_estimators': [50, 100]},\n",
       "             verbose=3)"
      ]
     },
     "metadata": {},
     "execution_count": 156
    }
   ],
   "source": [
    "cv3"
   ]
  },
  {
   "cell_type": "code",
   "execution_count": 157,
   "metadata": {},
   "outputs": [
    {
     "output_type": "stream",
     "name": "stdout",
     "text": [
      "Fitting 5 folds for each of 4 candidates, totalling 20 fits\n",
      "[CV] clf__estimator__learning_rate=1, clf__estimator__n_estimators=50 \n",
      "[Parallel(n_jobs=1)]: Using backend SequentialBackend with 1 concurrent workers.\n",
      "[CV]  clf__estimator__learning_rate=1, clf__estimator__n_estimators=50, score=0.242, total= 8.4min\n",
      "[CV] clf__estimator__learning_rate=1, clf__estimator__n_estimators=50 \n",
      "[Parallel(n_jobs=1)]: Done   1 out of   1 | elapsed:  8.4min remaining:    0.0s\n",
      "[CV]  clf__estimator__learning_rate=1, clf__estimator__n_estimators=50, score=0.240, total= 8.1min\n",
      "[CV] clf__estimator__learning_rate=1, clf__estimator__n_estimators=50 \n",
      "[Parallel(n_jobs=1)]: Done   2 out of   2 | elapsed: 16.5min remaining:    0.0s\n",
      "[CV]  clf__estimator__learning_rate=1, clf__estimator__n_estimators=50, score=0.248, total= 8.1min\n",
      "[CV] clf__estimator__learning_rate=1, clf__estimator__n_estimators=50 \n",
      "[CV]  clf__estimator__learning_rate=1, clf__estimator__n_estimators=50, score=0.242, total= 7.9min\n",
      "[CV] clf__estimator__learning_rate=1, clf__estimator__n_estimators=50 \n",
      "[CV]  clf__estimator__learning_rate=1, clf__estimator__n_estimators=50, score=0.254, total= 7.7min\n",
      "[CV] clf__estimator__learning_rate=1, clf__estimator__n_estimators=100 \n",
      "[CV]  clf__estimator__learning_rate=1, clf__estimator__n_estimators=100, score=0.246, total= 8.6min\n",
      "[CV] clf__estimator__learning_rate=1, clf__estimator__n_estimators=100 \n",
      "[CV]  clf__estimator__learning_rate=1, clf__estimator__n_estimators=100, score=0.254, total= 8.6min\n",
      "[CV] clf__estimator__learning_rate=1, clf__estimator__n_estimators=100 \n",
      "[CV]  clf__estimator__learning_rate=1, clf__estimator__n_estimators=100, score=0.259, total= 8.6min\n",
      "[CV] clf__estimator__learning_rate=1, clf__estimator__n_estimators=100 \n",
      "[CV]  clf__estimator__learning_rate=1, clf__estimator__n_estimators=100, score=0.238, total= 8.6min\n",
      "[CV] clf__estimator__learning_rate=1, clf__estimator__n_estimators=100 \n",
      "[CV]  clf__estimator__learning_rate=1, clf__estimator__n_estimators=100, score=0.260, total= 8.6min\n",
      "[CV] clf__estimator__learning_rate=2, clf__estimator__n_estimators=50 \n",
      "[CV]  clf__estimator__learning_rate=2, clf__estimator__n_estimators=50, score=0.000, total= 7.6min\n",
      "[CV] clf__estimator__learning_rate=2, clf__estimator__n_estimators=50 \n",
      "[CV]  clf__estimator__learning_rate=2, clf__estimator__n_estimators=50, score=0.000, total= 7.6min\n",
      "[CV] clf__estimator__learning_rate=2, clf__estimator__n_estimators=50 \n",
      "[CV]  clf__estimator__learning_rate=2, clf__estimator__n_estimators=50, score=0.000, total= 7.6min\n",
      "[CV] clf__estimator__learning_rate=2, clf__estimator__n_estimators=50 \n",
      "[CV]  clf__estimator__learning_rate=2, clf__estimator__n_estimators=50, score=0.000, total= 7.6min\n",
      "[CV] clf__estimator__learning_rate=2, clf__estimator__n_estimators=50 \n",
      "[CV]  clf__estimator__learning_rate=2, clf__estimator__n_estimators=50, score=0.000, total= 7.6min\n",
      "[CV] clf__estimator__learning_rate=2, clf__estimator__n_estimators=100 \n",
      "[CV]  clf__estimator__learning_rate=2, clf__estimator__n_estimators=100, score=0.000, total= 8.6min\n",
      "[CV] clf__estimator__learning_rate=2, clf__estimator__n_estimators=100 \n",
      "[CV]  clf__estimator__learning_rate=2, clf__estimator__n_estimators=100, score=0.000, total= 8.6min\n",
      "[CV] clf__estimator__learning_rate=2, clf__estimator__n_estimators=100 \n",
      "[CV]  clf__estimator__learning_rate=2, clf__estimator__n_estimators=100, score=0.000, total= 8.6min\n",
      "[CV] clf__estimator__learning_rate=2, clf__estimator__n_estimators=100 \n",
      "[CV]  clf__estimator__learning_rate=2, clf__estimator__n_estimators=100, score=0.000, total= 8.6min\n",
      "[CV] clf__estimator__learning_rate=2, clf__estimator__n_estimators=100 \n",
      "[CV]  clf__estimator__learning_rate=2, clf__estimator__n_estimators=100, score=0.000, total= 8.6min\n",
      "[Parallel(n_jobs=1)]: Done  20 out of  20 | elapsed: 164.4min finished\n"
     ]
    },
    {
     "output_type": "execute_result",
     "data": {
      "text/plain": [
       "GridSearchCV(estimator=Pipeline(steps=[('vect',\n",
       "                                        CountVectorizer(tokenizer=<function tokenize at 0x0000020082A9FDC0>)),\n",
       "                                       ('tfidf',\n",
       "                                        TfidfTransformer(smooth_idf=False)),\n",
       "                                       ('clf',\n",
       "                                        MultiOutputClassifier(estimator=AdaBoostClassifier()))]),\n",
       "             param_grid={'clf__estimator__learning_rate': [1, 2],\n",
       "                         'clf__estimator__n_estimators': [50, 100]},\n",
       "             verbose=3)"
      ]
     },
     "metadata": {},
     "execution_count": 157
    }
   ],
   "source": [
    "cv3.fit(X_train, y_train)"
   ]
  },
  {
   "cell_type": "code",
   "execution_count": 158,
   "metadata": {},
   "outputs": [],
   "source": [
    "y_pred3 = cv3.predict(X_test)"
   ]
  },
  {
   "cell_type": "code",
   "execution_count": 159,
   "metadata": {},
   "outputs": [
    {
     "output_type": "stream",
     "name": "stdout",
     "text": [
      "                        precision    recall  f1-score   support\n\n               related       0.82      0.95      0.88      3998\n               request       0.78      0.53      0.63       891\n                 offer       0.00      0.00      0.00        24\n           aid related       0.78      0.62      0.69      2164\n          medical help       0.60      0.26      0.36       435\n      medical products       0.59      0.30      0.40       279\n     search and rescue       0.47      0.15      0.22       136\n              security       0.17      0.04      0.07        96\n              military       0.53      0.32      0.40       158\n           child alone       0.00      0.00      0.00         0\n                 water       0.73      0.68      0.70       335\n                  food       0.81      0.68      0.74       584\n               shelter       0.74      0.58      0.65       468\n              clothing       0.74      0.40      0.52        70\n                 money       0.49      0.32      0.39       112\n        missing people       0.46      0.10      0.16        63\n              refugees       0.57      0.29      0.38       170\n                 death       0.74      0.42      0.54       247\n             other aid       0.53      0.16      0.24       692\ninfrastructure related       0.39      0.13      0.19       336\n             transport       0.64      0.22      0.33       235\n             buildings       0.69      0.40      0.50       269\n           electricity       0.56      0.23      0.33       115\n                 tools       0.18      0.06      0.09        35\n             hospitals       0.35      0.12      0.17        52\n                 shops       0.00      0.00      0.00        25\n           aid centers       0.26      0.08      0.12        64\n  other infrastructure       0.37      0.12      0.18       225\n       weather related       0.86      0.69      0.76      1472\n                floods       0.84      0.56      0.67       431\n                 storm       0.75      0.55      0.64       479\n                  fire       0.35      0.15      0.21        53\n            earthquake       0.89      0.81      0.85       515\n                  cold       0.67      0.35      0.46       104\n         other weather       0.43      0.15      0.23       267\n         direct report       0.70      0.39      0.50      1010\n\n             micro avg       0.77      0.59      0.67     16609\n             macro avg       0.54      0.33      0.39     16609\n          weighted avg       0.73      0.59      0.63     16609\n           samples avg       0.64      0.51      0.52     16609\n\n"
     ]
    }
   ],
   "source": [
    "# cv3 best parameters\n",
    "print(classification_report(y_test, y_pred3, target_names=y.columns))"
   ]
  },
  {
   "cell_type": "markdown",
   "metadata": {},
   "source": [
    "### 9. Export your model as a pickle file"
   ]
  },
  {
   "cell_type": "code",
   "execution_count": 165,
   "metadata": {},
   "outputs": [],
   "source": [
    "p = pickle.dumps('classifier.pkl')"
   ]
  },
  {
   "cell_type": "code",
   "execution_count": 166,
   "metadata": {},
   "outputs": [],
   "source": [
    "with open('classifier.pkl', 'wb') as file:\n",
    "    pickle.dump(cv3, file)"
   ]
  },
  {
   "cell_type": "markdown",
   "metadata": {},
   "source": [
    "### 10. Use this notebook to complete `train.py`\n",
    "Use the template file attached in the Resources folder to write a script that runs the steps above to create a database and export a model based on a new dataset specified by the user."
   ]
  },
  {
   "cell_type": "code",
   "execution_count": null,
   "metadata": {},
   "outputs": [],
   "source": []
  }
 ],
 "metadata": {
  "kernelspec": {
   "name": "python3",
   "display_name": "Python 3.8.6 64-bit",
   "metadata": {
    "interpreter": {
     "hash": "286624420625c5c240f7e441d657acaf1cf5ce8162569662dc8711141769689e"
    }
   }
  },
  "language_info": {
   "codemirror_mode": {
    "name": "ipython",
    "version": 3
   },
   "file_extension": ".py",
   "mimetype": "text/x-python",
   "name": "python",
   "nbconvert_exporter": "python",
   "pygments_lexer": "ipython3",
   "version": "3.8.6-final"
  }
 },
 "nbformat": 4,
 "nbformat_minor": 2
}